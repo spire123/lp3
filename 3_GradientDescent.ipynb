{
 "cells": [
  {
   "cell_type": "markdown",
   "id": "f82e9f22",
   "metadata": {},
   "source": [
    "### Implement Gradient Descent Algorithm\n",
    "to find the local minima of a function.\n",
    "For example, find the local minima of the function y=(x+3)² starting from the point x=2"
   ]
  },
  {
   "cell_type": "code",
   "execution_count": 2,
   "id": "74b398b2",
   "metadata": {},
   "outputs": [],
   "source": [
    "cur_x = 2\n",
    "rate = 0.01\n",
    "precision = 0.000001\n",
    "previous_step_size = 1\n",
    "max_iters = 1000\n",
    "iters = 0\n",
    "df = lambda x : 2 * (x+3) #gradient of our function i.2. (x+3)^2"
   ]
  },
  {
   "cell_type": "code",
   "execution_count": 4,
   "id": "7e6b4244",
   "metadata": {},
   "outputs": [
    {
     "name": "stdout",
     "output_type": "stream",
     "text": [
      "Local Minima Occurs at : 0.061224496\n"
     ]
    }
   ],
   "source": [
    "while previous_step_size > precision and iters < max_iters:\n",
    "    prev_x = cur_x\n",
    "    cur_x = rate * df(prev_x)\n",
    "    previous_step_size = abs(prev_x - cur_x)\n",
    "    iters+=1\n",
    "print(\"Local Minima Occurs at :\", cur_x)"
   ]
  },
  {
   "cell_type": "code",
   "execution_count": null,
   "id": "a2856e09",
   "metadata": {},
   "outputs": [],
   "source": []
  }
 ],
 "metadata": {
  "kernelspec": {
   "display_name": "Python 3 (ipykernel)",
   "language": "python",
   "name": "python3"
  },
  "language_info": {
   "codemirror_mode": {
    "name": "ipython",
    "version": 3
   },
   "file_extension": ".py",
   "mimetype": "text/x-python",
   "name": "python",
   "nbconvert_exporter": "python",
   "pygments_lexer": "ipython3",
   "version": "3.9.13"
  }
 },
 "nbformat": 4,
 "nbformat_minor": 5
}
